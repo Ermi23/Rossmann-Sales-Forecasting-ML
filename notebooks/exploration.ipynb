{
 "cells": [
  {
   "cell_type": "markdown",
   "metadata": {},
   "source": [
    "# ROSSMANN SALES Exploration of customer purchasing behavior"
   ]
  },
  {
   "cell_type": "markdown",
   "metadata": {},
   "source": [
    "### importing the nessesary library"
   ]
  },
  {
   "cell_type": "code",
   "execution_count": null,
   "metadata": {},
   "outputs": [],
   "source": [
    "import logging\n",
    "\n",
    "# Configure logging\n",
    "logging.basicConfig(filename='data_processing.log', \n",
    "                    level=logging.INFO, \n",
    "                    format='%(asctime)s:%(levelname)s:%(message)s')\n",
    "\n",
    "import os\n",
    "import pandas as pd\n",
    "import matplotlib.pyplot as plt\n",
    "import seaborn as sns\n",
    "import numpy as np\n",
    "print(os.getcwd())  # This prints the current working directory\n",
    "os.chdir(r'c:\\Users\\ermias.tadesse\\10x\\Rossmann-Sales-Forecasting-ML')  # Set the working directory to the project root\n",
    "from src.data_loader import DataLoader"
   ]
  },
  {
   "cell_type": "markdown",
   "metadata": {},
   "source": [
    "# Load and Pass the data to the class"
   ]
  },
  {
   "cell_type": "code",
   "execution_count": null,
   "metadata": {},
   "outputs": [],
   "source": [
    "data_loader = DataLoader(data_path='data')\n",
    "train_data, test_data, store_data, sample_submission_data = data_loader.load_data()\n",
    "logging.info(\"Loading train_data, test_data, store_data, and sample_submission_data.\")"
   ]
  },
  {
   "cell_type": "markdown",
   "metadata": {},
   "source": [
    "# Initial Exploration to each data"
   ]
  },
  {
   "cell_type": "code",
   "execution_count": null,
   "metadata": {},
   "outputs": [],
   "source": [
    "data_loader.initial_exploration(train_data)"
   ]
  },
  {
   "cell_type": "code",
   "execution_count": null,
   "metadata": {},
   "outputs": [],
   "source": [
    "data_loader.initial_exploration(test_data)"
   ]
  },
  {
   "cell_type": "code",
   "execution_count": null,
   "metadata": {},
   "outputs": [],
   "source": [
    "data_loader.initial_exploration(store_data)"
   ]
  },
  {
   "cell_type": "code",
   "execution_count": null,
   "metadata": {},
   "outputs": [],
   "source": [
    "data_loader.initial_exploration(sample_submission_data)"
   ]
  },
  {
   "cell_type": "markdown",
   "metadata": {},
   "source": [
    "# Check missing data for Traininga and store data"
   ]
  },
  {
   "cell_type": "code",
   "execution_count": null,
   "metadata": {},
   "outputs": [],
   "source": [
    "missing_data_train = data_loader.check_missing_data(train_data)"
   ]
  },
  {
   "cell_type": "code",
   "execution_count": null,
   "metadata": {},
   "outputs": [],
   "source": [
    "missing_data_test = data_loader.check_missing_data(test_data)"
   ]
  },
  {
   "cell_type": "code",
   "execution_count": null,
   "metadata": {},
   "outputs": [],
   "source": [
    "missing_data_store = data_loader.check_missing_data(store_data)"
   ]
  },
  {
   "cell_type": "code",
   "execution_count": null,
   "metadata": {},
   "outputs": [],
   "source": [
    "missing_data_sample_submission = data_loader.check_missing_data(sample_submission_data)"
   ]
  },
  {
   "cell_type": "markdown",
   "metadata": {},
   "source": [
    "# 1. Check Promotion Distribution (Train vs Test)\n",
    "### Since both the train and test datasets contain a 'Promo' column, we can compare the distribution of promotions as follows:"
   ]
  },
  {
   "cell_type": "code",
   "execution_count": null,
   "metadata": {},
   "outputs": [],
   "source": [
    "# Check distribution of promotions in both datasets\n",
    "plt.figure(figsize=(10, 6))\n",
    "sns.histplot(train_data['Promo'], label='Training', color='blue', kde=False, stat='density', bins=20)\n",
    "sns.histplot(test_data['Promo'], label='Test', color='orange', kde=False, stat='density', bins=20)\n",
    "plt.legend()\n",
    "plt.title('Distribution of Promotions in Training and Test Sets')\n",
    "plt.xlabel('Promo')\n",
    "plt.ylabel('Density')\n",
    "plt.show()\n",
    "logging.info(\"Generating bar chart for promo distribution comparison between train and test sets.\")\n"
   ]
  },
  {
   "cell_type": "markdown",
   "metadata": {},
   "source": [
    "# 2. Sales Behavior Before, During, and After Holidays\n",
    "### We need to define the holiday periods using the 'StateHoliday' column in train_data. Let's define 'before', 'during', and 'after' periods based on the holiday column."
   ]
  },
  {
   "cell_type": "code",
   "execution_count": null,
   "metadata": {},
   "outputs": [],
   "source": [
    "# Convert 'Date' column to datetime\n",
    "train_data['Date'] = pd.to_datetime(train_data['Date'])\n",
    "\n",
    "# Create 'Holiday' flag where StateHoliday is not 0\n",
    "train_data['HolidayFlag'] = train_data['StateHoliday'].apply(lambda x: 1 if x != '0' else 0)\n",
    "\n",
    "# Shift dates to create before and after holiday flags\n",
    "train_data['BeforeHoliday'] = train_data['HolidayFlag'].shift(1, fill_value=0)\n",
    "train_data['AfterHoliday'] = train_data['HolidayFlag'].shift(-1, fill_value=0)\n",
    "\n",
    "# Define a function to categorize the period\n",
    "def categorize_period(row):\n",
    "    if row['HolidayFlag'] == 1:\n",
    "        return 'During Holiday'\n",
    "    elif row['BeforeHoliday'] == 1:\n",
    "        return 'Before Holiday'\n",
    "    elif row['AfterHoliday'] == 1:\n",
    "        return 'After Holiday'\n",
    "    else:\n",
    "        return 'Non-Holiday'\n",
    "\n",
    "# Apply categorization to create a new column\n",
    "train_data['HolidayPeriod'] = train_data.apply(categorize_period, axis=1)\n",
    "\n",
    "# Group by the holiday period and calculate average sales\n",
    "holiday_sales = train_data.groupby('HolidayPeriod')['Sales'].mean()\n",
    "\n",
    "# Plot sales trends\n",
    "holiday_sales.plot(kind='bar', figsize=(10, 6), color=['gray', 'blue', 'green', 'orange'])\n",
    "plt.title('Sales Before, During, and After Holidays')\n",
    "plt.xlabel('Holiday Period')\n",
    "plt.ylabel('Average Sales')\n",
    "plt.show()\n",
    "\n",
    "logging.info(\"Generating line plot for sales behavior before, during, and after holidays.\")\n",
    "\n"
   ]
  },
  {
   "cell_type": "markdown",
   "metadata": {},
   "source": [
    "# 3. Seasonal Purchase Behavior (Christmas, Easter, etc.)\n",
    "### Given the StateHoliday column and its categories ('a', 'b', 'c', '0'), we can specifically track how sales behave during public holidays, Easter, and Christmas for the seasonal purchase behavior task.\n",
    "#### You can check for seasonal behavior by grouping sales by month and analyzing peaks during key seasons like Christmas (December) and Easter (April).\n",
    "### OR\n",
    "#### Seasonal Purchase Behavior (Christmas, Easter, Public Holidays)\n",
    "##### Let's focus on sales during different types of holidays as indicated by the StateHoliday column ('a', 'b', 'c')."
   ]
  },
  {
   "cell_type": "code",
   "execution_count": null,
   "metadata": {},
   "outputs": [],
   "source": [
    "# Extract the month from the 'Date' column\n",
    "train_data['Month'] = train_data['Date'].dt.month\n",
    "\n",
    "# Group sales by month to analyze seasonal trends\n",
    "seasonal_sales = train_data.groupby('Month')['Sales'].mean()\n",
    "\n",
    "# Plot seasonal sales trends\n",
    "seasonal_sales.plot(kind='line', marker='o', figsize=(12, 8))\n",
    "plt.title('Seasonal Sales Trends')\n",
    "plt.xlabel('Month')\n",
    "plt.ylabel('Average Sales')\n",
    "plt.xticks(range(1, 13), ['Jan', 'Feb', 'Mar', 'Apr', 'May', 'Jun', 'Jul', 'Aug', 'Sep', 'Oct', 'Nov', 'Dec'])\n",
    "plt.grid(True)\n",
    "plt.show()"
   ]
  },
  {
   "cell_type": "markdown",
   "metadata": {},
   "source": [
    "### Average Sales During Different Types of Holidays"
   ]
  },
  {
   "cell_type": "code",
   "execution_count": null,
   "metadata": {},
   "outputs": [],
   "source": [
    "# Filter data for holidays\n",
    "holiday_sales = train_data[train_data['StateHoliday'] != '0']\n",
    "\n",
    "# Group by the 'StateHoliday' column to calculate average sales during each type of holiday\n",
    "holiday_type_sales = holiday_sales.groupby('StateHoliday')['Sales'].mean()\n",
    "\n",
    "# Plot the sales by holiday type\n",
    "holiday_type_sales.plot(kind='bar', figsize=(10, 6), color=['red', 'green', 'blue'])\n",
    "plt.title('Average Sales During Different Types of Holidays')\n",
    "plt.xlabel('Holiday Type')\n",
    "plt.ylabel('Average Sales')\n",
    "plt.xticks(ticks=[0, 1, 2, 3], labels=['Public Holiday', 'Easter', 'Christmas', 'None'])\n",
    "plt.show()"
   ]
  },
  {
   "cell_type": "markdown",
   "metadata": {},
   "source": [
    "# 4. Correlation Between Sales and the Number of Customers\n",
    "### This analysis will determine how customer volume relates to sales."
   ]
  },
  {
   "cell_type": "code",
   "execution_count": null,
   "metadata": {},
   "outputs": [],
   "source": [
    "# Calculate the correlation between 'Sales' and 'Customers'\n",
    "correlation = train_data['Sales'].corr(train_data['Customers'])\n",
    "print(f'Correlation between Sales and Customers: {correlation}')\n",
    "\n",
    "# Scatter plot to visualize the relationship between Sales and Customers\n",
    "plt.figure(figsize=(10, 6))\n",
    "sns.scatterplot(x='Customers', y='Sales', data=train_data)\n",
    "plt.title('Sales vs. Number of Customers')\n",
    "plt.xlabel('Number of Customers')\n",
    "plt.ylabel('Sales')\n",
    "plt.show()"
   ]
  },
  {
   "cell_type": "markdown",
   "metadata": {},
   "source": [
    "# 5. Effect of Promo on Sales\n",
    "### Next, let's check how promotions affect sales and whether they attract new customers or increase sales with existing customers."
   ]
  },
  {
   "cell_type": "code",
   "execution_count": null,
   "metadata": {},
   "outputs": [],
   "source": [
    "# Group by Promo and calculate the average sales and customers for stores with and without promo\n",
    "promo_effect = train_data.groupby('Promo').agg({'Sales': 'mean', 'Customers': 'mean'}).reset_index()\n",
    "\n",
    "# Plot the effect of promotions on sales and customers\n",
    "plt.figure(figsize=(10, 6))\n",
    "sns.barplot(x='Promo', y='Sales', data=promo_effect)\n",
    "plt.title('Effect of Promotions on Sales')\n",
    "plt.xlabel('Promo')\n",
    "plt.ylabel('Average Sales')\n",
    "plt.show()\n",
    "\n",
    "plt.figure(figsize=(10, 6))\n",
    "sns.barplot(x='Promo', y='Customers', data=promo_effect)\n",
    "plt.title('Effect of Promotions on Number of Customers')\n",
    "plt.xlabel('Promo')\n",
    "plt.ylabel('Average Number of Customers')\n",
    "plt.show()\n"
   ]
  },
  {
   "cell_type": "markdown",
   "metadata": {},
   "source": [
    "# 6. Effective Deployment of Promos: Which Stores Should Get More Promos?\n",
    "### To determine which stores should receive more promos, we can analyze which stores are benefiting the most from promotions and which are not seeing significant increases in sales or customers."
   ]
  },
  {
   "cell_type": "code",
   "execution_count": null,
   "metadata": {},
   "outputs": [],
   "source": [
    "# Group by Store and Promo to see the effect of promotions per store\n",
    "store_promo_effect = train_data.groupby(['Store', 'Promo']).agg({'Sales': 'mean', 'Customers': 'mean'}).reset_index()\n",
    "\n",
    "# Pivot table to show difference in sales with and without promo for each store\n",
    "store_promo_pivot = store_promo_effect.pivot(index='Store', columns='Promo', values='Sales').reset_index()\n",
    "store_promo_pivot['PromoEffect'] = store_promo_pivot[1] - store_promo_pivot[0]\n",
    "\n",
    "# Find stores where promos are not effective\n",
    "ineffective_stores = store_promo_pivot[store_promo_pivot['PromoEffect'] < 0]\n",
    "\n",
    "print(f\"Stores where promos are less effective:\\n{ineffective_stores[['Store', 'PromoEffect']]}\")\n",
    "\n",
    "# Plot to visualize Promo Effect\n",
    "plt.figure(figsize=(10, 6))\n",
    "sns.histplot(store_promo_pivot['PromoEffect'], bins=20, kde=True)\n",
    "plt.title('Distribution of Promo Effect Across Stores')\n",
    "plt.xlabel('Promo Effect (Increase in Sales)')\n",
    "plt.ylabel('Number of Stores')\n",
    "plt.show()\n"
   ]
  },
  {
   "cell_type": "markdown",
   "metadata": {},
   "source": [
    "# 7. Store Opening and Closing Times and Customer Behavior\n",
    "### We can also analyze store behavior during opening and closing times using the 'Open' column. Stores that are always open on all weekdays will be compared with their sales on weekends."
   ]
  },
  {
   "cell_type": "code",
   "execution_count": null,
   "metadata": {},
   "outputs": [],
   "source": [
    "# Find stores that are always open on weekdays\n",
    "weekday_open_stores = train_data[(train_data['DayOfWeek'].isin([1, 2, 3, 4, 5])) & (train_data['Open'] == 1)]['Store'].unique()\n",
    "\n",
    "# Group by DayOfWeek and Store to calculate average sales on weekdays and weekends\n",
    "weekday_sales = train_data[train_data['Store'].isin(weekday_open_stores)].groupby(['Store', 'DayOfWeek'])['Sales'].mean().reset_index()\n",
    "\n",
    "# Separate weekday and weekend sales\n",
    "weekday_sales = weekday_sales[weekday_sales['DayOfWeek'] <= 5]  # Weekday sales\n",
    "weekend_sales = train_data[(train_data['DayOfWeek'] > 5) & (train_data['Store'].isin(weekday_open_stores))].groupby('Store')['Sales'].mean().reset_index()\n",
    "\n",
    "# Plot sales trends on weekdays vs. weekends\n",
    "plt.figure(figsize=(12, 8))\n",
    "sns.barplot(x='Store', y='Sales', data=weekend_sales, color='orange', label='Weekend Sales')\n",
    "sns.barplot(x='Store', y='Sales', data=weekday_sales, color='blue', label='Weekday Sales')\n",
    "plt.title('Sales Comparison: Weekdays vs Weekends')\n",
    "plt.xlabel('Store')\n",
    "plt.ylabel('Average Sales')\n",
    "plt.xticks(rotation=90)\n",
    "plt.legend()\n",
    "plt.show()\n"
   ]
  },
  {
   "cell_type": "markdown",
   "metadata": {},
   "source": [
    "### Tabular Format for Weekday vs Weekend Sales\n",
    "#### We can summarize the sales in a table for stores that are open all week, showing the average sales for weekdays and weekends."
   ]
  },
  {
   "cell_type": "code",
   "execution_count": null,
   "metadata": {},
   "outputs": [],
   "source": [
    "# Calculate average weekday sales (Mon-Fri)\n",
    "weekday_sales = train_data[train_data['DayOfWeek'] <= 5].groupby('Store')['Sales'].mean().reset_index()\n",
    "weekday_sales.columns = ['Store', 'Avg_Weekday_Sales']\n",
    "\n",
    "# Calculate average weekend sales (Sat-Sun)\n",
    "weekend_sales = train_data[train_data['DayOfWeek'] > 5].groupby('Store')['Sales'].mean().reset_index()\n",
    "weekend_sales.columns = ['Store', 'Avg_Weekend_Sales']\n",
    "\n",
    "# Merge the two tables\n",
    "sales_comparison = pd.merge(weekday_sales, weekend_sales, on='Store')\n",
    "\n",
    "# Calculate difference between weekday and weekend sales\n",
    "sales_comparison['Sales_Difference'] = sales_comparison['Avg_Weekday_Sales'] - sales_comparison['Avg_Weekend_Sales']\n",
    "\n",
    "# Display the tabular comparison\n",
    "sales_comparison.sort_values('Sales_Difference', ascending=False).head(10)"
   ]
  },
  {
   "cell_type": "markdown",
   "metadata": {},
   "source": [
    "### Plot sales comparison between weekdays and weekends with a logarithmic scale\n",
    "##### Boxplot for Weekday Sales"
   ]
  },
  {
   "cell_type": "code",
   "execution_count": null,
   "metadata": {},
   "outputs": [],
   "source": [
    "plt.figure(figsize=(12, 8))\n",
    "sns.boxplot(x='DayOfWeek', y='Sales', data=train_data[train_data['DayOfWeek'] <= 5])\n",
    "plt.yscale('log')  # Use a log scale for better visualization\n",
    "plt.title('Distribution of Weekday Sales (Log Scale)')\n",
    "plt.xlabel('Day of Week (Mon-Fri)')\n",
    "plt.ylabel('Sales (Log Scale)')\n",
    "plt.show()"
   ]
  },
  {
   "cell_type": "markdown",
   "metadata": {},
   "source": [
    "##### Boxplot for Weekend Sales"
   ]
  },
  {
   "cell_type": "code",
   "execution_count": null,
   "metadata": {},
   "outputs": [],
   "source": [
    "plt.figure(figsize=(12, 8))\n",
    "sns.boxplot(x='DayOfWeek', y='Sales', data=train_data[train_data['DayOfWeek'] > 5])\n",
    "plt.yscale('log')\n",
    "plt.title('Distribution of Weekend Sales (Log Scale)')\n",
    "plt.xlabel('Day of Week (Sat-Sun)')\n",
    "plt.ylabel('Sales (Log Scale)')\n",
    "plt.show()"
   ]
  },
  {
   "cell_type": "markdown",
   "metadata": {},
   "source": [
    "##### Violin plot to compare sales distributions\n",
    "##### Violin plot for weekday vs weekend sales"
   ]
  },
  {
   "cell_type": "code",
   "execution_count": null,
   "metadata": {},
   "outputs": [],
   "source": [
    "plt.figure(figsize=(12, 8))\n",
    "sns.violinplot(x='DayOfWeek', y='Sales', data=train_data, scale='width', inner='quartile', split=True)\n",
    "plt.yscale('log')  # Log scale for better visibility\n",
    "plt.title('Sales Distribution Across Weekdays and Weekends (Log Scale)')\n",
    "plt.xlabel('Day of Week')\n",
    "plt.ylabel('Sales (Log Scale)')\n",
    "plt.show()"
   ]
  },
  {
   "cell_type": "markdown",
   "metadata": {},
   "source": [
    "# 8. Check how the assortment type affects sales\n",
    "### The Assortment column in the store_data dataset defines the variety of products available in stores. Let's analyze how different assortment types ('a', 'b', 'c') impact sales.\n",
    "\n",
    "##### This analysis will show how stores with different assortment types perform in terms of sales. The bar plot visualizes the sales comparison across assortment types."
   ]
  },
  {
   "cell_type": "code",
   "execution_count": null,
   "metadata": {},
   "outputs": [],
   "source": [
    "# Merge train_data with store_data to get Assortment information\n",
    "train_store_data = pd.merge(train_data, store_data[['Store', 'Assortment']], on='Store')\n",
    "\n",
    "# Calculate average sales by Assortment type\n",
    "assortment_sales = train_store_data.groupby('Assortment')['Sales'].mean().reset_index()\n",
    "assortment_sales.columns = ['Assortment', 'Avg_Sales']\n",
    "\n",
    "# Display the average sales by assortment type\n",
    "print(assortment_sales)\n",
    "\n",
    "# Plot the results\n",
    "plt.figure(figsize=(8, 6))\n",
    "sns.barplot(x='Assortment', y='Avg_Sales', data=assortment_sales)\n",
    "plt.title('Average Sales by Assortment Type')\n",
    "plt.xlabel('Assortment Type')\n",
    "plt.ylabel('Average Sales')\n",
    "plt.show()\n",
    "\n",
    "logging.info(f\"Handling missing values for Assortment: Filled with mode value.\")\n"
   ]
  },
  {
   "cell_type": "markdown",
   "metadata": {},
   "source": [
    "# 9. How does the distance to the next competitor affect sales?\n",
    "### The CompetitionDistance column in store_data represents the distance to the nearest competitor. Let's analyze if stores located closer to competitors perform differently in terms of sales.\n",
    "##### This analysis will categorize the competition distance and show if proximity to competitors impacts sales performance."
   ]
  },
  {
   "cell_type": "code",
   "execution_count": null,
   "metadata": {},
   "outputs": [],
   "source": [
    "# Merge train_data with store_data to get CompetitionDistance information\n",
    "train_store_data = pd.merge(train_data, store_data[['Store', 'CompetitionDistance']], on='Store')\n",
    "\n",
    "# Bin the CompetitionDistance into categories for easier analysis\n",
    "train_store_data['CompDistCategory'] = pd.cut(train_store_data['CompetitionDistance'], \n",
    "                                              bins=[0, 500, 1000, 5000, 10000, np.inf], \n",
    "                                              labels=['0-500', '501-1000', '1001-5000', '5001-10000', '10000+'])\n",
    "\n",
    "# Calculate average sales by CompetitionDistance category\n",
    "comp_distance_sales = train_store_data.groupby('CompDistCategory')['Sales'].mean().reset_index()\n",
    "comp_distance_sales.columns = ['CompDistCategory', 'Avg_Sales']\n",
    "\n",
    "# Display the results\n",
    "print(comp_distance_sales)\n",
    "\n",
    "# Plot the average sales by competition distance category\n",
    "plt.figure(figsize=(10, 6))\n",
    "sns.barplot(x='CompDistCategory', y='Avg_Sales', data=comp_distance_sales)\n",
    "plt.title('Average Sales by Competitor Distance')\n",
    "plt.xlabel('Competitor Distance Category')\n",
    "plt.ylabel('Average Sales')\n",
    "plt.show()\n",
    "logging.info(f\"Handling missing values for CompetitionDistance: Filled with mean value.\")\n"
   ]
  },
  {
   "cell_type": "markdown",
   "metadata": {},
   "source": [
    "# 10. What if the store and its competitors are in city centers? Does the distance matter in that case?\n",
    "### We can check for stores located in urban areas by analyzing the CompetitionDistance alongside store types (StoreType), assuming that certain store types are more likely to be in urban centers. We'll explore whether competition distance still impacts stores in these areas.\n",
    "\n",
    "##### This will focus on stores in urban locations and evaluate if competition distance still plays a role."
   ]
  },
  {
   "cell_type": "code",
   "execution_count": null,
   "metadata": {},
   "outputs": [],
   "source": [
    "# Merge train_data with store_data to get both CompetitionDistance and StoreType information\n",
    "train_store_data = pd.merge(train_store_data, store_data[['Store', 'StoreType']], on='Store')\n",
    "\n",
    "# Focus on store types more likely to be in city centers (e.g., 'b' and 'c')\n",
    "urban_stores = train_store_data[train_store_data['StoreType'].isin(['b', 'c'])]\n",
    "\n",
    "# Calculate average sales by CompetitionDistance category for urban stores\n",
    "urban_comp_sales = urban_stores.groupby('CompDistCategory')['Sales'].mean().reset_index()\n",
    "urban_comp_sales.columns = ['CompDistCategory', 'Avg_Sales']\n",
    "\n",
    "# Display the results for urban stores\n",
    "print(urban_comp_sales)\n",
    "\n",
    "# Plot the results for urban stores\n",
    "plt.figure(figsize=(10, 6))\n",
    "sns.barplot(x='CompDistCategory', y='Avg_Sales', data=urban_comp_sales)\n",
    "plt.title('Average Sales by Competitor Distance for Urban Stores')\n",
    "plt.xlabel('Competitor Distance Category')\n",
    "plt.ylabel('Average Sales')\n",
    "plt.show()\n"
   ]
  },
  {
   "cell_type": "markdown",
   "metadata": {},
   "source": [
    "# 11. How does the opening or reopening of new competitors affect stores?\n",
    "### To understand the impact of competitors opening or reopening, we can use the CompetitionOpenSinceMonth and CompetitionOpenSinceYear columns. We'll investigate whether stores experience a drop in sales when new competitors open nearby.\n",
    "\n",
    "##### This will analyze how the sales trend changes after a new competitor opens nearby, focusing on the first year after opening."
   ]
  },
  {
   "cell_type": "code",
   "execution_count": null,
   "metadata": {},
   "outputs": [],
   "source": [
    "# Convert competition open year and month to a datetime format\n",
    "store_data['CompetitionOpenDate'] = pd.to_datetime(\n",
    "    {'year': store_data['CompetitionOpenSinceYear'], 'month': store_data['CompetitionOpenSinceMonth'], 'day': 1})\n",
    "\n",
    "# Merge competition open date with train_data\n",
    "train_store_data = pd.merge(train_data, store_data[['Store', 'CompetitionOpenDate']], on='Store')\n",
    "\n",
    "# Calculate the difference between the sale date and competition open date\n",
    "train_store_data['DaysSinceCompOpened'] = (pd.to_datetime(train_store_data['Date']) - train_store_data['CompetitionOpenDate']).dt.days\n",
    "\n",
    "# Filter out stores with valid competition data and calculate the effect\n",
    "recent_comp_open = train_store_data[(train_store_data['DaysSinceCompOpened'] > 0) & (train_store_data['DaysSinceCompOpened'] <= 365)]\n",
    "\n",
    "# Group by the time since competition opened to observe trends in sales\n",
    "comp_open_impact = recent_comp_open.groupby('DaysSinceCompOpened')['Sales'].mean().reset_index()\n",
    "\n",
    "# Plot the impact of competitor openings on sales\n",
    "plt.figure(figsize=(12, 6))\n",
    "sns.lineplot(x='DaysSinceCompOpened', y='Sales', data=comp_open_impact)\n",
    "plt.title('Sales Trend After Competitor Opening')\n",
    "plt.xlabel('Days Since Competitor Opened')\n",
    "plt.ylabel('Average Sales')\n",
    "plt.show()\n"
   ]
  },
  {
   "cell_type": "markdown",
   "metadata": {},
   "source": [
    "### Here’s a note on how missing values are handled for each of the columns used in the tasks, along with the reasoning for the imputation method chosen:\n",
    "\n",
    "1. Assortment (Categorical)\n",
    "Handling: Imputed using the mode.\n",
    "Reason: The Assortment column contains categorical values ('a', 'b', 'c') representing different product varieties in the stores. Since this is a categorical variable and one of the assortment types is likely dominant, the mode (most frequent value) is used to maintain the majority characteristic of the data.\n",
    "2. CompetitionDistance (Numerical)\n",
    "Handling: Imputed using the mean.\n",
    "Reason: CompetitionDistance is a numerical variable representing the distance to the nearest competitor. Using the mean is appropriate here because it provides a central tendency that smooths out the variability in distances. The mean is chosen over the median because the values likely follow a normal distribution with few extreme outliers.\n",
    "3. CompetitionOpenSinceMonth and CompetitionOpenSinceYear (Numerical)\n",
    "Handling: Imputed using the mean for both columns.\n",
    "Reason: These columns represent when the nearest competitor opened. Missing values could indicate stores without competitors at the time, but imputing with the mean provides a reasonable estimation for stores in competitive areas. By using the mean, we assume that most stores are affected by competitors that opened around the same time period.\n",
    "4. Promo2 (Categorical)\n",
    "Handling: Imputed using the mode.\n",
    "Reason: Promo2 is a categorical feature that indicates whether a store is participating in an extended promotion. Since it is a binary variable (1 or 0), imputing missing values with the mode ensures we reflect the most common scenario, which is often either participation or non-participation.\n",
    "5. Promo2SinceWeek and Promo2SinceYear (Numerical)\n",
    "Handling: Imputed using the mean.\n",
    "Reason: These features represent when a store started participating in Promo2. If a store is missing this data, it likely wasn't participating. However, to avoid dropping these rows and since they are related to the timeline of promo participation, the mean provides a balanced approach, especially when modeling how promo participation affects sales.\n",
    "6. PromoInterval (Categorical)\n",
    "Handling: Imputed using the mode.\n",
    "Reason: PromoInterval is categorical, representing the months when promotions are active. Since this field is related to regular promotion schedules, the mode ensures that missing values reflect the most frequent promotional intervals observed.\n",
    "\n",
    "--------------------------------------------------------------------------------------------------------------------------------------------------------------------------------------------------------------------------------------\n",
    "\n",
    "For these missing values, the mean is selected for numerical columns to capture central tendencies, ensuring that extreme values do not heavily influence the imputation. For categorical variables, the mode is used to represent the most frequent characteristic, thereby maintaining consistency with the majority of the data. This strategy minimizes the bias introduced by missing values while preserving the overall distribution of the data."
   ]
  }
 ],
 "metadata": {
  "kernelspec": {
   "display_name": "venv",
   "language": "python",
   "name": "python3"
  },
  "language_info": {
   "codemirror_mode": {
    "name": "ipython",
    "version": 3
   },
   "file_extension": ".py",
   "mimetype": "text/x-python",
   "name": "python",
   "nbconvert_exporter": "python",
   "pygments_lexer": "ipython3",
   "version": "3.12.0"
  }
 },
 "nbformat": 4,
 "nbformat_minor": 2
}
