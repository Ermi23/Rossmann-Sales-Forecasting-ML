{
 "cells": [
  {
   "cell_type": "markdown",
   "metadata": {},
   "source": []
  },
  {
   "cell_type": "code",
   "execution_count": 1,
   "metadata": {},
   "outputs": [
    {
     "name": "stdout",
     "output_type": "stream",
     "text": [
      "c:\\Users\\ermias.tadesse\\10x\\Rossmann-Sales-Forecasting-ML\\log\n"
     ]
    }
   ],
   "source": [
    "import os\n",
    "import pandas as pd\n",
    "import matplotlib.pyplot as plt\n",
    "import seaborn as sns\n",
    "import numpy as np\n",
    "import logging\n",
    "from sklearn.preprocessing import StandardScaler\n",
    "os.chdir(r'c:\\Users\\ermias.tadesse\\10x\\Rossmann-Sales-Forecasting-ML\\log')\n",
    "# Configure logging\n",
    "logging.basicConfig(filename='store_sales.log', \n",
    "                    level=logging.INFO, \n",
    "                    format='%(asctime)s:%(levelname)s:%(message)s')\n",
    "print(os.getcwd())  # This prints the current working directory\n",
    "os.chdir(r'c:\\Users\\ermias.tadesse\\10x\\Rossmann-Sales-Forecasting-ML')  # Set the working directory to the project root\n",
    "from src.data_loader import DataLoader\n",
    "os.chdir(r'c:\\Users\\ermias.tadesse\\10x\\Rossmann-Sales-Forecasting-ML')  # Set the working directory to the project root"
   ]
  },
  {
   "cell_type": "markdown",
   "metadata": {},
   "source": []
  },
  {
   "cell_type": "code",
   "execution_count": 2,
   "metadata": {},
   "outputs": [
    {
     "name": "stderr",
     "output_type": "stream",
     "text": [
      "c:\\Users\\ermias.tadesse\\10x\\Rossmann-Sales-Forecasting-ML\\src\\data_loader.py:13: DtypeWarning: Columns (7) have mixed types. Specify dtype option on import or set low_memory=False.\n",
      "  self.train = pd.read_csv(f\"{self.data_path}/train.csv\")\n"
     ]
    },
    {
     "name": "stdout",
     "output_type": "stream",
     "text": [
      "Data Loaded Successfully\n"
     ]
    }
   ],
   "source": [
    "data_loader = DataLoader(data_path='data')\n",
    "train_df, test_df, store_df, sample_submission_df = data_loader.load_data()\n",
    "logging.info(\"Loading train_data, test_data, store_data, and sample_submission_data.\")"
   ]
  },
  {
   "cell_type": "markdown",
   "metadata": {},
   "source": []
  },
  {
   "cell_type": "code",
   "execution_count": 3,
   "metadata": {},
   "outputs": [
    {
     "name": "stdout",
     "output_type": "stream",
     "text": [
      "Store\n",
      " \n",
      " Store                          0\n",
      "StoreType                      0\n",
      "Assortment                     0\n",
      "CompetitionDistance            3\n",
      "CompetitionOpenSinceMonth    354\n",
      "CompetitionOpenSinceYear     354\n",
      "Promo2                         0\n",
      "Promo2SinceWeek              544\n",
      "Promo2SinceYear              544\n",
      "PromoInterval                544\n",
      "dtype: int64 \n",
      " \n",
      " Train\n",
      " \n",
      " Store            0\n",
      "DayOfWeek        0\n",
      "Date             0\n",
      "Sales            0\n",
      "Customers        0\n",
      "Open             0\n",
      "Promo            0\n",
      "StateHoliday     0\n",
      "SchoolHoliday    0\n",
      "dtype: int64 \n",
      " \n",
      " Test\n",
      " \n",
      " Id                0\n",
      "Store             0\n",
      "DayOfWeek         0\n",
      "Date              0\n",
      "Open             11\n",
      "Promo             0\n",
      "StateHoliday      0\n",
      "SchoolHoliday     0\n",
      "dtype: int64\n"
     ]
    }
   ],
   "source": [
    "missing_data_store = store_df.isnull().sum()\n",
    "missing_data_train = train_df.isnull().sum()\n",
    "missing_data_test = test_df.isnull().sum()\n",
    "logging.info(\"Show missing data.\")\n",
    "print('Store\\n \\n', missing_data_store , '\\n \\n Train\\n \\n', missing_data_train , '\\n \\n Test\\n \\n', missing_data_test)"
   ]
  },
  {
   "cell_type": "markdown",
   "metadata": {},
   "source": [
    "# Feature Engineering\n",
    "Convert Date Columns: Convert the Date column to datetime format and extract useful features."
   ]
  },
  {
   "cell_type": "code",
   "execution_count": 4,
   "metadata": {},
   "outputs": [],
   "source": [
    "train_df['Date'] = pd.to_datetime(train_df['Date'])\n",
    "test_df['Date'] = pd.to_datetime(test_df['Date'])\n",
    "\n",
    "# Extract features\n",
    "train_df['Year'] = train_df['Date'].dt.year\n",
    "train_df['Month'] = train_df['Date'].dt.month\n",
    "train_df['Weekday'] = train_df['Date'].dt.weekday\n",
    "train_df['Day'] = train_df['Date'].dt.day\n",
    "\n",
    "logging.info(\"COnvert the data column to datetime format and extract useful features.\")"
   ]
  },
  {
   "cell_type": "markdown",
   "metadata": {},
   "source": [
    "# Encode Categorical Variables\n",
    "One-Hot Encoding: Use pd.get_dummies() for categorical variables like StoreType, Assortment, etc."
   ]
  },
  {
   "cell_type": "code",
   "execution_count": 5,
   "metadata": {},
   "outputs": [],
   "source": [
    "store_df = pd.get_dummies(store_df, columns=['StoreType', 'Assortment'], drop_first=True)\n",
    "train_df = pd.get_dummies(train_df, columns=['StateHoliday'], drop_first=True)\n",
    "test_df = pd.get_dummies(test_df, columns=['StateHoliday'], drop_first=True)\n",
    "logging.info(\"wncode catagorical variables\")"
   ]
  },
  {
   "cell_type": "markdown",
   "metadata": {},
   "source": [
    "# Merge Datasets\n",
    "Combine Store Information with Train and Test Sets: Merge the store data with train and test data based on the Store column."
   ]
  },
  {
   "cell_type": "code",
   "execution_count": 6,
   "metadata": {},
   "outputs": [],
   "source": [
    "train_df = train_df.merge(store_df, on='Store', how='left')\n",
    "test_df = test_df.merge(store_df, on='Store', how='left')\n",
    "logging.info(\"Merge datasets\")"
   ]
  },
  {
   "cell_type": "markdown",
   "metadata": {},
   "source": [
    "# Handle NaN Values After Merge\n",
    "Check for NaNs Again: After merging, check for any new NaN values."
   ]
  },
  {
   "cell_type": "code",
   "execution_count": 7,
   "metadata": {},
   "outputs": [],
   "source": [
    "train_df.isnull().sum()\n",
    "test_df.isnull().sum()\n",
    "logging.info(\"Handle NAN\")"
   ]
  },
  {
   "cell_type": "markdown",
   "metadata": {},
   "source": [
    "# Filling Missing Values"
   ]
  },
  {
   "cell_type": "code",
   "execution_count": 8,
   "metadata": {},
   "outputs": [
    {
     "name": "stdout",
     "output_type": "stream",
     "text": [
      "Id                           0\n",
      "Store                        0\n",
      "DayOfWeek                    0\n",
      "Date                         0\n",
      "Open                         0\n",
      "Promo                        0\n",
      "SchoolHoliday                0\n",
      "StateHoliday_a               0\n",
      "CompetitionDistance          0\n",
      "CompetitionOpenSinceMonth    0\n",
      "CompetitionOpenSinceYear     0\n",
      "Promo2                       0\n",
      "Promo2SinceWeek              0\n",
      "Promo2SinceYear              0\n",
      "PromoInterval                0\n",
      "StoreType_b                  0\n",
      "StoreType_c                  0\n",
      "StoreType_d                  0\n",
      "Assortment_b                 0\n",
      "Assortment_c                 0\n",
      "dtype: int64\n"
     ]
    }
   ],
   "source": [
    "# Fill missing values in the test DataFrame\n",
    "test_df['Open'] = test_df['Open'].fillna(0)\n",
    "test_df['CompetitionDistance'] = test_df['CompetitionDistance'].fillna(test_df['CompetitionDistance'].median())\n",
    "test_df['CompetitionOpenSinceMonth'] = test_df['CompetitionOpenSinceMonth'].fillna(0)\n",
    "test_df['CompetitionOpenSinceYear'] = test_df['CompetitionOpenSinceYear'].fillna(0)\n",
    "test_df['Promo2'] = test_df['Promo2'].fillna(0)\n",
    "test_df['Promo2SinceWeek'] = test_df['Promo2SinceWeek'].fillna(0)\n",
    "test_df['Promo2SinceYear'] = test_df['Promo2SinceYear'].fillna(0)\n",
    "test_df['PromoInterval'] = test_df['PromoInterval'].fillna('No Promo')\n",
    "\n",
    "# Verify if any missing values remain\n",
    "print(test_df.isnull().sum())\n",
    "logging.info(\"Filling missing values.\")"
   ]
  },
  {
   "cell_type": "markdown",
   "metadata": {},
   "source": [
    "# Step 2: Scaling Features\n",
    "Standardize Numeric Features: Use StandardScaler from sklearn."
   ]
  },
  {
   "cell_type": "code",
   "execution_count": 9,
   "metadata": {},
   "outputs": [
    {
     "name": "stdout",
     "output_type": "stream",
     "text": [
      "   CompetitionDistance      Open     Promo  SchoolHoliday  StateHoliday_a\n",
      "0            -0.539198  0.452399  1.273237       2.144211       -0.142555\n",
      "1            -0.629927  0.452399  1.273237       2.144211       -0.142555\n",
      "2             1.127616  0.452399  1.273237       2.144211       -0.142555\n",
      "3            -0.623446  0.452399  1.273237       2.144211       -0.142555\n",
      "4             3.172897  0.452399  1.273237       2.144211       -0.142555\n",
      "   CompetitionDistance      Open     Promo  SchoolHoliday  StateHoliday_a\n",
      "0            -0.539198  0.452399  1.273237      -0.466372       -0.142555\n",
      "1             1.127616  0.452399  1.273237      -0.466372       -0.142555\n",
      "2             2.406888  0.452399  1.273237      -0.466372       -0.142555\n",
      "3             0.270879  0.452399  1.273237      -0.466372       -0.142555\n",
      "4            -0.440693  0.452399  1.273237      -0.466372       -0.142555\n",
      "(1017209, 29) (41088, 29)\n"
     ]
    }
   ],
   "source": [
    "# Define your numeric and categorical features\n",
    "numeric_features = ['CompetitionDistance', 'Open', 'Promo', 'SchoolHoliday', 'StateHoliday_a']\n",
    "categorical_features = ['StoreType_b', 'StoreType_c', 'StoreType_d', 'Assortment_b', 'Assortment_c', 'PromoInterval']\n",
    "\n",
    "# Create the scaler\n",
    "scaler = StandardScaler()\n",
    "\n",
    "# Fit and transform the numeric features in the training data\n",
    "train_df[numeric_features] = scaler.fit_transform(train_df[numeric_features])\n",
    "\n",
    "# Transform the numeric features in the test data\n",
    "test_df[numeric_features] = scaler.transform(test_df[numeric_features])\n",
    "\n",
    "# One-hot encode the categorical features\n",
    "train_df = pd.get_dummies(train_df, columns=categorical_features, drop_first=True)\n",
    "test_df = pd.get_dummies(test_df, columns=categorical_features, drop_first=True)\n",
    "\n",
    "# Ensure both train and test sets have the same columns after one-hot encoding\n",
    "train_df, test_df = train_df.align(test_df, join='left', axis=1, fill_value=0)\n",
    "\n",
    "# Verify the shapes\n",
    "# Verify the transformation\n",
    "print(train_df[numeric_features].head())\n",
    "print(test_df[numeric_features].head())\n",
    "print(train_df.shape, test_df.shape)\n",
    "logging.info(\"scaling features.\")"
   ]
  },
  {
   "cell_type": "markdown",
   "metadata": {},
   "source": [
    "### Explanation:\n",
    "Separate Numeric and Categorical Features: This ensures you only scale numerical features.\n",
    "One-Hot Encoding: Converts categorical variables into a format suitable for machine learning.\n",
    "Align Train and Test DataFrames: After one-hot encoding, ensure that both DataFrames have the same columns. The align method fills any missing columns with zeros."
   ]
  },
  {
   "cell_type": "markdown",
   "metadata": {},
   "source": [
    "## Step 3: Setting Up the Machine Learning Pipeline\n",
    "#### 1. Create a Pipeline\n",
    "Use Pipeline from sklearn to combine preprocessing and modeling."
   ]
  },
  {
   "cell_type": "code",
   "execution_count": 10,
   "metadata": {},
   "outputs": [],
   "source": [
    "from sklearn.ensemble import RandomForestRegressor\n",
    "from sklearn.model_selection import train_test_split\n",
    "from sklearn.pipeline import Pipeline\n",
    "from sklearn.compose import ColumnTransformer\n",
    "\n",
    "# Define features and target\n",
    "X = train_df.drop(columns=['Sales', 'Date'])  # Drop target and other non-features\n",
    "y = train_df['Sales']\n",
    "\n",
    "# Split the data\n",
    "X_train, X_val, y_train, y_val = train_test_split(X, y, test_size=0.2, random_state=42)\n",
    "\n",
    "# Create a pipeline\n",
    "model_pipeline = Pipeline([\n",
    "    ('scaler', StandardScaler()),\n",
    "    ('regressor', RandomForestRegressor())\n",
    "])\n",
    "preprocessor = ColumnTransformer(\n",
    "    transformers=[\n",
    "        ('num', numeric_transformer, numeric_features),\n",
    "        ('cat', categorical_transformer, categorical_features)\n",
    "    ],\n",
    "    sparse_threshold=0.3  # Use sparse matrices for one-hot encoding when necessary\n",
    ")\n",
    "logging.info(\"Setting up machine learning pipline.\")"
   ]
  },
  {
   "cell_type": "markdown",
   "metadata": {},
   "source": [
    "#### 2. Train the Model\n",
    "Fit the model on the training data."
   ]
  },
  {
   "cell_type": "code",
   "execution_count": 11,
   "metadata": {},
   "outputs": [],
   "source": [
    "model_pipeline.fit(X_train, y_train)\n",
    "logging.info(\"Train Model.\")"
   ]
  },
  {
   "cell_type": "markdown",
   "metadata": {},
   "source": [
    "#### 3. Evaluate the Model\n",
    "Evaluate your model on the validation set."
   ]
  },
  {
   "cell_type": "code",
   "execution_count": 12,
   "metadata": {},
   "outputs": [
    {
     "name": "stdout",
     "output_type": "stream",
     "text": [
      "Mean Absolute Error: 263.7416997473481\n"
     ]
    }
   ],
   "source": [
    "from sklearn.metrics import mean_absolute_error\n",
    "\n",
    "y_pred = model_pipeline.predict(X_val)\n",
    "mae = mean_absolute_error(y_val, y_pred)\n",
    "print(f'Mean Absolute Error: {mae}')\n",
    "logging.info(\"Evaluate the model.\")"
   ]
  },
  {
   "cell_type": "markdown",
   "metadata": {},
   "source": [
    "### Post Prediction Analysis\n",
    "1. Feature Importance:\n",
    "Since you’re using a RandomForest model, you can directly access the feature importance:"
   ]
  },
  {
   "cell_type": "code",
   "execution_count": 19,
   "metadata": {},
   "outputs": [
    {
     "data": {
      "image/png": "[encoded data removed]",
      "text/plain": [
       "<Figure size 1000x600 with 1 Axes>"
      ]
     },
     "metadata": {},
     "output_type": "display_data"
    }
   ],
   "source": [
    "import matplotlib.pyplot as plt\n",
    "import numpy as np\n",
    "\n",
    "# Extract feature importances\n",
    "feature_importances = model_pipeline.named_steps['regressor'].feature_importances_\n",
    "\n",
    "# Get feature names after scaling and one-hot encoding\n",
    "feature_names = X_train.columns\n",
    "\n",
    "# Sort feature importances and plot them\n",
    "sorted_idx = np.argsort(feature_importances)\n",
    "plt.figure(figsize=(10, 6))\n",
    "plt.barh(feature_names[sorted_idx], feature_importances[sorted_idx])\n",
    "plt.xlabel(\"Feature Importance\")\n",
    "plt.title(\"Feature Importances in RandomForest\")\n",
    "plt.show()\n",
    "\n",
    "# Optionally log the top features\n",
    "top_features = feature_names[sorted_idx][-5:]\n",
    "logging.info(f\"Top 5 important features: {top_features}\")\n"
   ]
  },
  {
   "cell_type": "markdown",
   "metadata": {},
   "source": [
    "## Step 4: Serialize the Model\n",
    "Save your model for future use."
   ]
  },
  {
   "cell_type": "code",
   "execution_count": 20,
   "metadata": {},
   "outputs": [
    {
     "name": "stdout",
     "output_type": "stream",
     "text": [
      "Model saved in data folder\n"
     ]
    }
   ],
   "source": [
    "import joblib\n",
    "\n",
    "joblib.dump(model_pipeline, 'data/sales_model.pkl')\n",
    "print(f\"Model saved in data folder\")\n",
    "logging.info(\"Serialize the model.\")"
   ]
  }
 ],
 "metadata": {
  "kernelspec": {
   "display_name": "venv",
   "language": "python",
   "name": "python3"
  },
  "language_info": {
   "codemirror_mode": {
    "name": "ipython",
    "version": 3
   },
   "file_extension": ".py",
   "mimetype": "text/x-python",
   "name": "python",
   "nbconvert_exporter": "python",
   "pygments_lexer": "ipython3",
   "version": "3.12.0"
  }
 },
 "nbformat": 4,
 "nbformat_minor": 2
}
